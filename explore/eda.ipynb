{
 "cells": [
  {
   "cell_type": "markdown",
   "id": "4ae278f6-16d7-42a4-afed-1626b7555b49",
   "metadata": {},
   "source": [
    "## Análise preliminar da distribuição dos dados\n",
    "\n",
    "15 de agosto de 2023\n",
    "\n",
    "---\n",
    "\n",
    "Com este notebook, objetiva-se a exploração da distribuição de dados no conjunto ao qual será implementado o algoritmo de k-means. Esta exploração tem caráter preliminar, e deverá apresentar a distribuição de dados, estatísticas e outras informações que nos levem a compreender o insumo que temos.\n",
    "\n",
    "Em relação ao dataset, parte-se de algumas premissas:\n",
    "\n",
    "- os dados foram coletados por meio do Portal de Dados Abertos da Alesp, sendo assim registros oficiais;\n",
    "- os valores foram corrigidos conforme a inflação de cada período até dezembro de 2022, seguindo metodologia do Banco Central e índices disponibilizados pelo IBGE;\n",
    "- os dados se referem a despesas de alimentação e hospedagem, apenas;\n",
    "- cada linha é um registro de despesa único.\n",
    "\n",
    "À análise:"
   ]
  },
  {
   "cell_type": "code",
   "execution_count": 1,
   "id": "e1854856-5db1-4e0a-8473-54fdfeba425a",
   "metadata": {},
   "outputs": [],
   "source": [
    "# carregamento das bibliotecas necessárias\n",
    "import sys\n",
    "import pandas as pd\n",
    "import matplotlib.pyplot as plt\n",
    "import seaborn as sns\n",
    "from scipy.stats import skew, kurtosis"
   ]
  },
  {
   "cell_type": "code",
   "execution_count": 2,
   "id": "2ea7e120-4aee-4ec6-a2d8-9e07f0347c88",
   "metadata": {},
   "outputs": [
    {
     "name": "stdout",
     "output_type": "stream",
     "text": [
      "<class 'pandas.core.frame.DataFrame'>\n",
      "RangeIndex: 34197 entries, 0 to 34196\n",
      "Data columns (total 4 columns):\n",
      " #   Column           Non-Null Count  Dtype  \n",
      "---  ------           --------------  -----  \n",
      " 0   Data             34197 non-null  object \n",
      " 1   CNPJ             32833 non-null  float64\n",
      " 2   Valor            34197 non-null  float64\n",
      " 3   Valor_corrigido  34197 non-null  float64\n",
      "dtypes: float64(3), object(1)\n",
      "memory usage: 1.0+ MB\n"
     ]
    }
   ],
   "source": [
    "# carregamento do dataset\n",
    "df = pd.read_csv(\"../data/2013_2022_corrigido.csv\")\n",
    "df.info()"
   ]
  },
  {
   "cell_type": "markdown",
   "id": "5d9794c9-e330-4501-bfbb-4a6936676aca",
   "metadata": {},
   "source": [
    "O dataset é composto de 4 colunas (uma do tipo `object` ou `string`; as demais do tipo `float`) e 34.197 linhas. `CNPJ` contém alguns valores nulos &mdash; como esta é uma variável importante para a aplicação futura de k-means, valores nulos devem ser desconsiderados. Além disso, é preciso converter `CNPJ` para o tipo `string`, pois trata-se de variável categórica."
   ]
  },
  {
   "cell_type": "code",
   "execution_count": 3,
   "id": "7a69d427-1e5a-40aa-b9cd-45f05a26f680",
   "metadata": {},
   "outputs": [],
   "source": [
    "# exclusão de nulos\n",
    "df = df[df['CNPJ'].notnull()]\n",
    "\n",
    "# conversão de tipo\n",
    "df['CNPJ'] = df['CNPJ'].astype(str)"
   ]
  },
  {
   "cell_type": "markdown",
   "id": "2672239e-39bb-4619-b441-bf20a17ebd96",
   "metadata": {},
   "source": [
    "Observemos a quantidade de registros por ano:"
   ]
  },
  {
   "cell_type": "code",
   "execution_count": 4,
   "id": "7e82724f-2122-4dc0-93ca-4a5aaa266219",
   "metadata": {},
   "outputs": [
    {
     "data": {
      "text/html": [
       "<div>\n",
       "<style scoped>\n",
       "    .dataframe tbody tr th:only-of-type {\n",
       "        vertical-align: middle;\n",
       "    }\n",
       "\n",
       "    .dataframe tbody tr th {\n",
       "        vertical-align: top;\n",
       "    }\n",
       "\n",
       "    .dataframe thead tr th {\n",
       "        text-align: left;\n",
       "    }\n",
       "\n",
       "    .dataframe thead tr:last-of-type th {\n",
       "        text-align: right;\n",
       "    }\n",
       "</style>\n",
       "<table border=\"1\" class=\"dataframe\">\n",
       "  <thead>\n",
       "    <tr>\n",
       "      <th></th>\n",
       "      <th colspan=\"3\" halign=\"left\">Valor_corrigido</th>\n",
       "    </tr>\n",
       "    <tr>\n",
       "      <th></th>\n",
       "      <th>sum</th>\n",
       "      <th>count</th>\n",
       "      <th>mean</th>\n",
       "    </tr>\n",
       "    <tr>\n",
       "      <th>Data</th>\n",
       "      <th></th>\n",
       "      <th></th>\n",
       "      <th></th>\n",
       "    </tr>\n",
       "  </thead>\n",
       "  <tbody>\n",
       "    <tr>\n",
       "      <th>2013</th>\n",
       "      <td>1212551.57</td>\n",
       "      <td>4313</td>\n",
       "      <td>281.138783</td>\n",
       "    </tr>\n",
       "    <tr>\n",
       "      <th>2014</th>\n",
       "      <td>1064279.73</td>\n",
       "      <td>4047</td>\n",
       "      <td>262.979918</td>\n",
       "    </tr>\n",
       "    <tr>\n",
       "      <th>2015</th>\n",
       "      <td>1061466.58</td>\n",
       "      <td>3731</td>\n",
       "      <td>284.499217</td>\n",
       "    </tr>\n",
       "    <tr>\n",
       "      <th>2016</th>\n",
       "      <td>863261.28</td>\n",
       "      <td>3190</td>\n",
       "      <td>270.614821</td>\n",
       "    </tr>\n",
       "    <tr>\n",
       "      <th>2017</th>\n",
       "      <td>1034897.63</td>\n",
       "      <td>3425</td>\n",
       "      <td>302.159892</td>\n",
       "    </tr>\n",
       "    <tr>\n",
       "      <th>2018</th>\n",
       "      <td>931806.30</td>\n",
       "      <td>3098</td>\n",
       "      <td>300.776727</td>\n",
       "    </tr>\n",
       "    <tr>\n",
       "      <th>2019</th>\n",
       "      <td>1047596.58</td>\n",
       "      <td>3403</td>\n",
       "      <td>307.845013</td>\n",
       "    </tr>\n",
       "    <tr>\n",
       "      <th>2020</th>\n",
       "      <td>350773.85</td>\n",
       "      <td>1435</td>\n",
       "      <td>244.441707</td>\n",
       "    </tr>\n",
       "    <tr>\n",
       "      <th>2021</th>\n",
       "      <td>816510.19</td>\n",
       "      <td>2782</td>\n",
       "      <td>293.497552</td>\n",
       "    </tr>\n",
       "    <tr>\n",
       "      <th>2022</th>\n",
       "      <td>988979.78</td>\n",
       "      <td>3409</td>\n",
       "      <td>290.108472</td>\n",
       "    </tr>\n",
       "  </tbody>\n",
       "</table>\n",
       "</div>"
      ],
      "text/plain": [
       "     Valor_corrigido                  \n",
       "                 sum count        mean\n",
       "Data                                  \n",
       "2013      1212551.57  4313  281.138783\n",
       "2014      1064279.73  4047  262.979918\n",
       "2015      1061466.58  3731  284.499217\n",
       "2016       863261.28  3190  270.614821\n",
       "2017      1034897.63  3425  302.159892\n",
       "2018       931806.30  3098  300.776727\n",
       "2019      1047596.58  3403  307.845013\n",
       "2020       350773.85  1435  244.441707\n",
       "2021       816510.19  2782  293.497552\n",
       "2022       988979.78  3409  290.108472"
      ]
     },
     "execution_count": 4,
     "metadata": {},
     "output_type": "execute_result"
    }
   ],
   "source": [
    "# cópia do dataframe\n",
    "df_ano = df.copy()\n",
    "\n",
    "# conversão de tipo\n",
    "df_ano['Data'] = pd.to_datetime(df_ano['Data'])\n",
    "\n",
    "# agrupamento e cálculos\n",
    "df_ano.groupby(df_ano['Data'].dt.year).agg({'Valor_corrigido': ['sum', 'count', 'mean']})"
   ]
  },
  {
   "cell_type": "markdown",
   "id": "3dd7e882-aa22-4256-beda-1c3b5dfac17c",
   "metadata": {},
   "source": [
    "Aqui temos algumas informações interessantes:\n",
    "\n",
    "- 2013 foi o ano com maior valor total, e também com a maior quantidade de despesas. Com isso, a média por despesa não figura entre os maiores valores;\n",
    "- em 2019 a quantidade de despesas foi semelhante a 2022, mas o valor médio por despesa foi pouco mais de R\\\\$ 17 superior.\n",
    "\n",
    "Para este estudo, utilizaremos somente os dados de 2022. E vamos tomar apenas duas colunas: `CNPJ` e `Vamor_corrigido`."
   ]
  },
  {
   "cell_type": "code",
   "execution_count": 5,
   "id": "045d3de0-dc80-4ac5-807d-f50e397f6c2d",
   "metadata": {},
   "outputs": [
    {
     "name": "stdout",
     "output_type": "stream",
     "text": [
      "<class 'pandas.core.frame.DataFrame'>\n",
      "RangeIndex: 3409 entries, 0 to 3408\n",
      "Data columns (total 2 columns):\n",
      " #   Column           Non-Null Count  Dtype  \n",
      "---  ------           --------------  -----  \n",
      " 0   CNPJ             3409 non-null   object \n",
      " 1   Valor_corrigido  3409 non-null   float64\n",
      "dtypes: float64(1), object(1)\n",
      "memory usage: 53.4+ KB\n"
     ]
    }
   ],
   "source": [
    "# filtro a partir do ano\n",
    "df = df[df['Data'].str.startswith('2022')].reset_index()\n",
    "\n",
    "# remoção de colunas desnecessárias\n",
    "data = df[['CNPJ', 'Valor_corrigido']]\n",
    "\n",
    "# apresentação de resultados\n",
    "data.info()"
   ]
  },
  {
   "cell_type": "code",
   "execution_count": 6,
   "id": "63d5c4f4-ca44-4843-86f5-71e610077b01",
   "metadata": {},
   "outputs": [
    {
     "data": {
      "text/plain": [
       "1580"
      ]
     },
     "execution_count": 6,
     "metadata": {},
     "output_type": "execute_result"
    }
   ],
   "source": [
    "# contagem de valores únicos\n",
    "data['CNPJ'].nunique()"
   ]
  },
  {
   "cell_type": "code",
   "execution_count": 7,
   "id": "4436eab7-a799-49a8-a5ee-643710ecbdae",
   "metadata": {},
   "outputs": [
    {
     "data": {
      "text/plain": [
       "count     3409.000000\n",
       "mean       290.108472\n",
       "std        596.307449\n",
       "min          0.000000\n",
       "25%         55.650000\n",
       "50%        129.320000\n",
       "75%        285.200000\n",
       "max      10250.410000\n",
       "Name: Valor_corrigido, dtype: float64"
      ]
     },
     "execution_count": 7,
     "metadata": {},
     "output_type": "execute_result"
    }
   ],
   "source": [
    "# descrição estatística dos dados\n",
    "data['Valor_corrigido'].describe()"
   ]
  },
  {
   "cell_type": "markdown",
   "id": "800776ca-e83c-4588-a8d6-2a8ea3ad7b7d",
   "metadata": {},
   "source": [
    "Os 3.409 registros de 2022 mostram que há 1.580 CNPJs únicos. Anteriormente vimos que essas 3.409 despesas somam R\\\\$ 988.979,78. Cada despesa tem o valor médio de R\\\\$ 290,11 &mdash; entretanto, o desvio-padrão é elevado, indicando significativa dispersão dos dados em relação à média.\n",
    "\n",
    "Notamos ainda que a média é superior ao terceiro quartil (Q3). Isso indica que o conjunto de dados está inclinado para valores mais baixos, apesar da significante presença de outliers, que puxa o Q3 para cima. Graficamente, o valor médio maior que o Q3 sugere assimetria positiva: a cauda do lado direito  é mais longa do que do lado esquerdo.\n",
    "\n",
    "Vamos ver essa dispersão em gráficos:r."
   ]
  },
  {
   "cell_type": "code",
   "execution_count": 8,
   "id": "f695121d-af06-4d2c-a83a-29a2a0e420b3",
   "metadata": {},
   "outputs": [
    {
     "data": {
      "image/png": "[encoded data removed]",
      "text/plain": [
       "<Figure size 800x800 with 2 Axes>"
      ]
     },
     "metadata": {},
     "output_type": "display_data"
    }
   ],
   "source": [
    "# determinação da disposição dos gráficos\n",
    "fig, axes = plt.subplots(nrows=2, ncols=1, figsize=(8, 8))\n",
    "\n",
    "# criação de histograma\n",
    "sns.histplot(data['Valor_corrigido'], kde=True, ax=axes[0])\n",
    "axes[0].set_title(\"Distribuição de 'Valor_corrigido'\")\n",
    "axes[0].set_xlabel('Valor_corrigido')\n",
    "axes[0].set_ylabel('Frequência')\n",
    "\n",
    "# criação de boxplot\n",
    "sns.boxplot(x=data['Valor_corrigido'], ax=axes[1])\n",
    "axes[1].set_title(\"Boxplot de 'Valor_corrigido'\")\n",
    "axes[1].set_xlabel('Valor_corrigido')\n",
    "\n",
    "# apresentação\n",
    "plt.tight_layout()\n",
    "plt.show()"
   ]
  },
  {
   "cell_type": "markdown",
   "id": "4e1faf75-4a0e-4782-b145-090aa9fc6f20",
   "metadata": {},
   "source": [
    "O histograma mostra que `Valor_corrigido` está inclinado para a direita, com concentração de valores mais baixos: conforme os valores aumentam, a densidade diminui.\n",
    "\n",
    "Já boxplot confirma a presença de outliers na distribuição. O intervalo interquartil é estreito em comparação com a amplitude de todo o dataset, o que indica que a maioria dos dados se concentra num intervalo pequeno e mais próximo dos menores valores.\n",
    "\n",
    "Observemos, então, coeficiente de variação, assimetria e curtose.o"
   ]
  },
  {
   "cell_type": "code",
   "execution_count": 9,
   "id": "d15cac34-c64c-465f-bd0a-83cbe4cbcc88",
   "metadata": {},
   "outputs": [
    {
     "data": {
      "text/plain": [
       "{'coeficiente de variação (%)': 2.055463756963658,\n",
       " 'assimetria': 7.612963936851333,\n",
       " 'curtose': 83.7187725360396}"
      ]
     },
     "execution_count": 9,
     "metadata": {},
     "output_type": "execute_result"
    }
   ],
   "source": [
    "# cálculo de coeficiente de variação\n",
    "cv = data['Valor_corrigido'].std() / data['Valor_corrigido'].mean()\n",
    "\n",
    "# cálculo de assimetria e curtose\n",
    "data_skewness = skew(data['Valor_corrigido'])\n",
    "data_kurtosis = kurtosis(data['Valor_corrigido'])\n",
    "\n",
    "# organização de resultados\n",
    "resultados = {\n",
    "    'coeficiente de variação (%)': cv,\n",
    "    'assimetria': data_skewness,\n",
    "    'curtose': data_kurtosis\n",
    "}\n",
    "\n",
    "# apresentação\n",
    "resultados"
   ]
  },
  {
   "cell_type": "markdown",
   "id": "0233d1e2-f1e5-4f98-b47f-904792f819fb",
   "metadata": {},
   "source": [
    "O coeficiente de variação de 205,5% indica alto grau de variabilidade relativo à média. A assimetria de 7,6 confirma a inclinação à direita, enquanto a curtose de 83,7 comprova cauda longa e picos acentuados em comparação à distribuição normal."
   ]
  }
 ],
 "metadata": {
  "kernelspec": {
   "display_name": "mba_esalq",
   "language": "python",
   "name": "mba_esalq"
  },
  "language_info": {
   "codemirror_mode": {
    "name": "ipython",
    "version": 3
   },
   "file_extension": ".py",
   "mimetype": "text/x-python",
   "name": "python",
   "nbconvert_exporter": "python",
   "pygments_lexer": "ipython3",
   "version": "3.10.9"
  }
 },
 "nbformat": 4,
 "nbformat_minor": 5
}
